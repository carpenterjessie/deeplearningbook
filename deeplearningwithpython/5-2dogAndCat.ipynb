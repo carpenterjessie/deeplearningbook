{
 "cells": [
  {
   "cell_type": "code",
   "execution_count": 1,
   "metadata": {},
   "outputs": [],
   "source": [
    "import os,shutil"
   ]
  },
  {
   "cell_type": "code",
   "execution_count": 2,
   "metadata": {},
   "outputs": [],
   "source": [
    "origianl_data_dir = '/home/tangli/Documents/deeplearningbook/deeplearningwithpython/data/train'"
   ]
  },
  {
   "cell_type": "code",
   "execution_count": 3,
   "metadata": {},
   "outputs": [
    {
     "name": "stderr",
     "output_type": "stream",
     "text": [
      "Using TensorFlow backend.\n"
     ]
    }
   ],
   "source": [
    "import tensorflow as tf\n",
    "import keras.backend.tensorflow_backend as KTF\n",
    "\n",
    "sess = tf.Session(config=tf.ConfigProto(log_device_placement=True))\n",
    "\n",
    "# 设置session\n",
    "KTF.set_session(sess)"
   ]
  },
  {
   "cell_type": "code",
   "execution_count": 4,
   "metadata": {},
   "outputs": [],
   "source": [
    "os.environ[\"CUDA_VISIBLE_DEVICES\"] = \"0\""
   ]
  },
  {
   "cell_type": "code",
   "execution_count": 5,
   "metadata": {},
   "outputs": [],
   "source": [
    "base_dir = '/home/tangli/Documents/deeplearningbook/deeplearningwithpython/smallerdata'"
   ]
  },
  {
   "cell_type": "code",
   "execution_count": 6,
   "metadata": {},
   "outputs": [],
   "source": [
    "train_dir = os.path.join(base_dir,'train')"
   ]
  },
  {
   "cell_type": "code",
   "execution_count": 7,
   "metadata": {},
   "outputs": [],
   "source": [
    "# os.mkdir(train_dir)"
   ]
  },
  {
   "cell_type": "code",
   "execution_count": 8,
   "metadata": {},
   "outputs": [],
   "source": [
    "validation_dir = os.path.join(base_dir,'validation')"
   ]
  },
  {
   "cell_type": "code",
   "execution_count": 9,
   "metadata": {},
   "outputs": [],
   "source": [
    "# os.mkdir(validation_dir)"
   ]
  },
  {
   "cell_type": "code",
   "execution_count": 10,
   "metadata": {},
   "outputs": [],
   "source": [
    "test_dir = os.path.join(base_dir,'test')"
   ]
  },
  {
   "cell_type": "code",
   "execution_count": 11,
   "metadata": {},
   "outputs": [],
   "source": [
    "# os.mkdir(test_dir)"
   ]
  },
  {
   "cell_type": "code",
   "execution_count": 12,
   "metadata": {},
   "outputs": [],
   "source": [
    "train_cats_dir = os.path.join(train_dir,'cats')"
   ]
  },
  {
   "cell_type": "code",
   "execution_count": 13,
   "metadata": {},
   "outputs": [],
   "source": [
    "# os.mkdir(train_cats_dir)"
   ]
  },
  {
   "cell_type": "code",
   "execution_count": 14,
   "metadata": {},
   "outputs": [],
   "source": [
    "train_dogs_dir = os.path.join(train_dir,'dogs')\n",
    "# os.mkdir(train_dogs_dir)"
   ]
  },
  {
   "cell_type": "code",
   "execution_count": null,
   "metadata": {},
   "outputs": [],
   "source": []
  },
  {
   "cell_type": "code",
   "execution_count": 15,
   "metadata": {},
   "outputs": [],
   "source": [
    "validation_cats_dir = os.path.join(validation_dir,'cats')\n",
    "# os.mkdir(validation_cats_dir)"
   ]
  },
  {
   "cell_type": "code",
   "execution_count": 16,
   "metadata": {},
   "outputs": [],
   "source": [
    "validation_dogs_dir = os.path.join(validation_dir,'dogs')\n",
    "# os.mkdir(validation_dogs_dir)"
   ]
  },
  {
   "cell_type": "code",
   "execution_count": 17,
   "metadata": {},
   "outputs": [],
   "source": [
    "test_cats_dir = os.path.join(test_dir,'cats')"
   ]
  },
  {
   "cell_type": "code",
   "execution_count": 18,
   "metadata": {},
   "outputs": [],
   "source": [
    "# os.mkdir(test_cats_dir)"
   ]
  },
  {
   "cell_type": "code",
   "execution_count": 19,
   "metadata": {},
   "outputs": [],
   "source": [
    "test_dogs_dir = os.path.join(test_dir,'dogs')\n",
    "# os.mkdir(test_dogs_dir)"
   ]
  },
  {
   "cell_type": "code",
   "execution_count": 20,
   "metadata": {},
   "outputs": [],
   "source": [
    "# fnames = ['cat.{}.jpg'.format(i) for i in range(1000)]\n",
    "# for fname in fnames:\n",
    "#     src = os.path.join(origianl_data_dir,fname)\n",
    "#     dst = os.path.join(train_cats_dir,fname)\n",
    "#     shutil.copyfile(src,dst)"
   ]
  },
  {
   "cell_type": "code",
   "execution_count": null,
   "metadata": {},
   "outputs": [],
   "source": []
  },
  {
   "cell_type": "code",
   "execution_count": 21,
   "metadata": {},
   "outputs": [],
   "source": [
    "# for fname in fnames:\n",
    "#     src = os.path.join(origianl_data_dir,fname)\n",
    "#     dst = os.path.join(train_cats_dir,fname)\n",
    "#     shutil.copyfile(src,dst)"
   ]
  },
  {
   "cell_type": "code",
   "execution_count": 22,
   "metadata": {},
   "outputs": [],
   "source": [
    "# fnames = ['cat.{}.jpg'.format(i) for i in range(1000,1500)]\n",
    "# for fname in fnames:\n",
    "#     src = os.path.join(origianl_data_dir,fname)\n",
    "#     dst = os.path.join(validation_cats_dir,fname)\n",
    "#     shutil.copyfile(src,dst)"
   ]
  },
  {
   "cell_type": "code",
   "execution_count": 23,
   "metadata": {},
   "outputs": [],
   "source": [
    "# fnames = ['cat.{}.jpg'.format(i) for i in range(1500,2000)]\n",
    "# for fname in fnames:\n",
    "#     src = os.path.join(origianl_data_dir,fname)\n",
    "#     dst = os.path.join(test_cats_dir,fname)\n",
    "#     shutil.copyfile(src,dst)"
   ]
  },
  {
   "cell_type": "code",
   "execution_count": 24,
   "metadata": {},
   "outputs": [],
   "source": [
    "# fnames = ['dog.{}.jpg'.format(i) for i in range(1000)]\n",
    "# for fname in fnames:\n",
    "#     src = os.path.join(origianl_data_dir,fname)\n",
    "#     dst = os.path.join(train_dogs_dir,fname)\n",
    "#     shutil.copyfile(src,dst)"
   ]
  },
  {
   "cell_type": "code",
   "execution_count": 25,
   "metadata": {},
   "outputs": [],
   "source": [
    "# fnames = ['dog.{}.jpg'.format(i) for i in range(1000,1500)]\n",
    "# for fname in fnames:\n",
    "#     src = os.path.join(origianl_data_dir,fname)\n",
    "#     dst = os.path.join(validation_dogs_dir,fname)\n",
    "#     shutil.copyfile(src,dst)"
   ]
  },
  {
   "cell_type": "code",
   "execution_count": null,
   "metadata": {},
   "outputs": [],
   "source": []
  },
  {
   "cell_type": "code",
   "execution_count": 26,
   "metadata": {},
   "outputs": [],
   "source": [
    "# fnames = ['dog.{}.jpg'.format(i) for i in range(1500,2000)]\n",
    "# for fname in fnames:\n",
    "#     src = os.path.join(origianl_data_dir,fname)\n",
    "#     dst = os.path.join(test_dogs_dir,fname)\n",
    "#     shutil.copyfile(src,dst)"
   ]
  },
  {
   "cell_type": "code",
   "execution_count": 27,
   "metadata": {},
   "outputs": [
    {
     "name": "stdout",
     "output_type": "stream",
     "text": [
      "total training cat images: 1000\n"
     ]
    }
   ],
   "source": [
    "print('total training cat images:', len(os.listdir(train_cats_dir)))"
   ]
  },
  {
   "cell_type": "code",
   "execution_count": 28,
   "metadata": {},
   "outputs": [
    {
     "name": "stdout",
     "output_type": "stream",
     "text": [
      "total training dog images: 1000\n"
     ]
    }
   ],
   "source": [
    "print('total training dog images:', len(os.listdir(train_dogs_dir)))"
   ]
  },
  {
   "cell_type": "code",
   "execution_count": 29,
   "metadata": {},
   "outputs": [
    {
     "name": "stdout",
     "output_type": "stream",
     "text": [
      "total validation cat images: 500\n"
     ]
    }
   ],
   "source": [
    "print('total validation cat images:', len(os.listdir(validation_cats_dir)))"
   ]
  },
  {
   "cell_type": "code",
   "execution_count": 30,
   "metadata": {},
   "outputs": [
    {
     "name": "stdout",
     "output_type": "stream",
     "text": [
      "total validation dog images: 500\n"
     ]
    }
   ],
   "source": [
    "print('total validation dog images:', len(os.listdir(validation_dogs_dir)))"
   ]
  },
  {
   "cell_type": "code",
   "execution_count": 31,
   "metadata": {},
   "outputs": [
    {
     "name": "stdout",
     "output_type": "stream",
     "text": [
      "total test cat images: 500\n"
     ]
    }
   ],
   "source": [
    "print('total test cat images:', len(os.listdir(test_cats_dir)))"
   ]
  },
  {
   "cell_type": "code",
   "execution_count": 32,
   "metadata": {},
   "outputs": [
    {
     "name": "stdout",
     "output_type": "stream",
     "text": [
      "total test dog images: 500\n"
     ]
    }
   ],
   "source": [
    "print('total test dog images:', len(os.listdir(test_dogs_dir)))"
   ]
  },
  {
   "cell_type": "code",
   "execution_count": 33,
   "metadata": {},
   "outputs": [],
   "source": [
    "from keras import layers\n",
    "from keras import models"
   ]
  },
  {
   "cell_type": "code",
   "execution_count": 34,
   "metadata": {},
   "outputs": [],
   "source": [
    "model = models.Sequential()"
   ]
  },
  {
   "cell_type": "code",
   "execution_count": 35,
   "metadata": {},
   "outputs": [],
   "source": [
    "model.add(layers.Conv2D(32,(3,3),activation='relu',input_shape=(150,150,3)))\n",
    "model.add(layers.MaxPooling2D((2,2)))\n",
    "model.add(layers.Conv2D(64,(3,3),activation='relu'))\n",
    "model.add(layers.MaxPooling2D((2,2)))\n",
    "model.add(layers.Conv2D(128,(3,3),activation='relu'))\n",
    "model.add(layers.MaxPooling2D((2,2)))\n",
    "model.add(layers.Conv2D(128,(3,3),activation='relu'))\n",
    "model.add(layers.MaxPooling2D((2,2)))\n",
    "model.add(layers.Flatten())\n",
    "model.add(layers.Dense(512,activation='relu'))\n",
    "model.add(layers.Dense(1,activation='sigmoid'))"
   ]
  },
  {
   "cell_type": "code",
   "execution_count": 36,
   "metadata": {},
   "outputs": [
    {
     "name": "stdout",
     "output_type": "stream",
     "text": [
      "_________________________________________________________________\n",
      "Layer (type)                 Output Shape              Param #   \n",
      "=================================================================\n",
      "conv2d_1 (Conv2D)            (None, 148, 148, 32)      896       \n",
      "_________________________________________________________________\n",
      "max_pooling2d_1 (MaxPooling2 (None, 74, 74, 32)        0         \n",
      "_________________________________________________________________\n",
      "conv2d_2 (Conv2D)            (None, 72, 72, 64)        18496     \n",
      "_________________________________________________________________\n",
      "max_pooling2d_2 (MaxPooling2 (None, 36, 36, 64)        0         \n",
      "_________________________________________________________________\n",
      "conv2d_3 (Conv2D)            (None, 34, 34, 128)       73856     \n",
      "_________________________________________________________________\n",
      "max_pooling2d_3 (MaxPooling2 (None, 17, 17, 128)       0         \n",
      "_________________________________________________________________\n",
      "conv2d_4 (Conv2D)            (None, 15, 15, 128)       147584    \n",
      "_________________________________________________________________\n",
      "max_pooling2d_4 (MaxPooling2 (None, 7, 7, 128)         0         \n",
      "_________________________________________________________________\n",
      "flatten_1 (Flatten)          (None, 6272)              0         \n",
      "_________________________________________________________________\n",
      "dense_1 (Dense)              (None, 512)               3211776   \n",
      "_________________________________________________________________\n",
      "dense_2 (Dense)              (None, 1)                 513       \n",
      "=================================================================\n",
      "Total params: 3,453,121\n",
      "Trainable params: 3,453,121\n",
      "Non-trainable params: 0\n",
      "_________________________________________________________________\n"
     ]
    }
   ],
   "source": [
    "model.summary()"
   ]
  },
  {
   "cell_type": "code",
   "execution_count": 37,
   "metadata": {},
   "outputs": [],
   "source": [
    "from keras import optimizers"
   ]
  },
  {
   "cell_type": "code",
   "execution_count": 38,
   "metadata": {},
   "outputs": [],
   "source": [
    "model.compile(loss='binary_crossentropy',\n",
    "              optimizer=optimizers.RMSprop(lr=1e-4),\n",
    "              metrics=['acc'])"
   ]
  },
  {
   "cell_type": "code",
   "execution_count": 39,
   "metadata": {},
   "outputs": [],
   "source": [
    "from keras.preprocessing.image import ImageDataGenerator"
   ]
  },
  {
   "cell_type": "code",
   "execution_count": 40,
   "metadata": {},
   "outputs": [],
   "source": [
    "train_datagen = ImageDataGenerator(rescale=1./255)\n",
    "test_datagen = ImageDataGenerator(rescale=1./255)"
   ]
  },
  {
   "cell_type": "code",
   "execution_count": 41,
   "metadata": {},
   "outputs": [
    {
     "name": "stdout",
     "output_type": "stream",
     "text": [
      "Found 2000 images belonging to 2 classes.\n"
     ]
    }
   ],
   "source": [
    "train_generator = train_datagen.flow_from_directory(train_dir,\n",
    "                                                    target_size=(150,150),\n",
    "                                                    batch_size=20,\n",
    "                                                    class_mode='binary')"
   ]
  },
  {
   "cell_type": "code",
   "execution_count": 42,
   "metadata": {},
   "outputs": [
    {
     "name": "stdout",
     "output_type": "stream",
     "text": [
      "Found 1000 images belonging to 2 classes.\n"
     ]
    }
   ],
   "source": [
    "validation_generator = test_datagen.flow_from_directory(validation_dir,\n",
    "                                                       target_size=(150,150),\n",
    "                                                       batch_size=20,\n",
    "                                                       class_mode='binary')"
   ]
  },
  {
   "cell_type": "code",
   "execution_count": 43,
   "metadata": {},
   "outputs": [
    {
     "name": "stdout",
     "output_type": "stream",
     "text": [
      "data batch shape: (20, 150, 150, 3)\n",
      "labels batch shape: (20,)\n"
     ]
    }
   ],
   "source": [
    "for data_batch, labels_batch in train_generator:\n",
    "    print('data batch shape:',data_batch.shape)\n",
    "    print('labels batch shape:',labels_batch.shape)\n",
    "    break"
   ]
  },
  {
   "cell_type": "code",
   "execution_count": 44,
   "metadata": {},
   "outputs": [],
   "source": [
    "# history = model.fit_generator(train_generator,\n",
    "#                               steps_per_epoch=100,\n",
    "#                               epochs=30,\n",
    "#                               validation_data=validation_generator,\n",
    "#                               validation_steps=50)"
   ]
  },
  {
   "cell_type": "code",
   "execution_count": 45,
   "metadata": {},
   "outputs": [],
   "source": [
    "import matplotlib.pyplot as plt"
   ]
  },
  {
   "cell_type": "code",
   "execution_count": 46,
   "metadata": {},
   "outputs": [
    {
     "ename": "NameError",
     "evalue": "name 'history' is not defined",
     "output_type": "error",
     "traceback": [
      "\u001b[0;31m---------------------------------------------------------------------------\u001b[0m",
      "\u001b[0;31mNameError\u001b[0m                                 Traceback (most recent call last)",
      "\u001b[0;32m<ipython-input-46-0642ce207f8b>\u001b[0m in \u001b[0;36m<module>\u001b[0;34m()\u001b[0m\n\u001b[0;32m----> 1\u001b[0;31m \u001b[0macc\u001b[0m \u001b[0;34m=\u001b[0m \u001b[0mhistory\u001b[0m\u001b[0;34m.\u001b[0m\u001b[0mhistory\u001b[0m\u001b[0;34m[\u001b[0m\u001b[0;34m'acc'\u001b[0m\u001b[0;34m]\u001b[0m\u001b[0;34m\u001b[0m\u001b[0m\n\u001b[0m\u001b[1;32m      2\u001b[0m \u001b[0mval_acc\u001b[0m \u001b[0;34m=\u001b[0m \u001b[0mhistory\u001b[0m\u001b[0;34m.\u001b[0m\u001b[0mhistory\u001b[0m\u001b[0;34m[\u001b[0m\u001b[0;34m'val_acc'\u001b[0m\u001b[0;34m]\u001b[0m\u001b[0;34m\u001b[0m\u001b[0m\n\u001b[1;32m      3\u001b[0m \u001b[0mloss\u001b[0m \u001b[0;34m=\u001b[0m \u001b[0mhistory\u001b[0m\u001b[0;34m.\u001b[0m\u001b[0mhistory\u001b[0m\u001b[0;34m[\u001b[0m\u001b[0;34m'loss'\u001b[0m\u001b[0;34m]\u001b[0m\u001b[0;34m\u001b[0m\u001b[0m\n\u001b[1;32m      4\u001b[0m \u001b[0mval_loss\u001b[0m \u001b[0;34m=\u001b[0m \u001b[0mhistory\u001b[0m\u001b[0;34m.\u001b[0m\u001b[0mhistory\u001b[0m\u001b[0;34m[\u001b[0m\u001b[0;34m'val_loss'\u001b[0m\u001b[0;34m]\u001b[0m\u001b[0;34m\u001b[0m\u001b[0m\n",
      "\u001b[0;31mNameError\u001b[0m: name 'history' is not defined"
     ]
    }
   ],
   "source": [
    "acc = history.history['acc']\n",
    "val_acc = history.history['val_acc']\n",
    "loss = history.history['loss']\n",
    "val_loss = history.history['val_loss']"
   ]
  },
  {
   "cell_type": "code",
   "execution_count": null,
   "metadata": {},
   "outputs": [],
   "source": [
    "epochs = range(1, len(acc)+1)"
   ]
  },
  {
   "cell_type": "code",
   "execution_count": null,
   "metadata": {},
   "outputs": [],
   "source": [
    "plt.plot(epochs, acc, 'bo',label = 'Training acc')\n",
    "plt.plot(epochs, val_acc, 'b',label = 'Validation loss')\n",
    "plt.title('Training and validation accuracy')\n",
    "plt.legend()\n",
    "plt.figure()\n",
    "plt.plot(epochs,loss,'bo',label='Training loss')\n",
    "plt.plot(epochs, val_loss,'b',label='Validation loss')\n",
    "plt.title('Training and validation loss')\n",
    "plt.legend()\n",
    "plt.show()"
   ]
  },
  {
   "cell_type": "code",
   "execution_count": null,
   "metadata": {},
   "outputs": [],
   "source": [
    "model.save('cats_and_dogs_small_1.h5')"
   ]
  },
  {
   "cell_type": "code",
   "execution_count": 47,
   "metadata": {},
   "outputs": [],
   "source": [
    "datagen = ImageDataGenerator(rotation_range=40,\n",
    "                             width_shift_range=0.2,\n",
    "                             height_shift_range=0.2,\n",
    "                             shear_range=0.2,\n",
    "                             zoom_range=0.2,\n",
    "                             horizontal_flip=True,\n",
    "                             fill_mode='nearest')"
   ]
  },
  {
   "cell_type": "code",
   "execution_count": null,
   "metadata": {},
   "outputs": [],
   "source": [
    "from keras.preprocessing import image"
   ]
  },
  {
   "cell_type": "code",
   "execution_count": null,
   "metadata": {},
   "outputs": [],
   "source": [
    "fnames = [os.path.join(train_cats_dir,fname) for fname in os.listdir(train_cats_dir)]"
   ]
  },
  {
   "cell_type": "code",
   "execution_count": null,
   "metadata": {},
   "outputs": [],
   "source": [
    "img_path = fnames[3]\n",
    "img = image.load_img(img_path, target_size=(150,150))"
   ]
  },
  {
   "cell_type": "code",
   "execution_count": null,
   "metadata": {},
   "outputs": [],
   "source": [
    "x = image.img_to_array(img)"
   ]
  },
  {
   "cell_type": "code",
   "execution_count": null,
   "metadata": {},
   "outputs": [],
   "source": [
    "x = x.reshape((1,)+x.shape)"
   ]
  },
  {
   "cell_type": "code",
   "execution_count": null,
   "metadata": {},
   "outputs": [],
   "source": [
    "i=0"
   ]
  },
  {
   "cell_type": "code",
   "execution_count": null,
   "metadata": {},
   "outputs": [],
   "source": [
    "for batch in datagen.flow(x, batch_size=1):\n",
    "    plt.figure(i)\n",
    "    imgplot = plt.imshow(image.array_to_img(batch[0]))\n",
    "    i+=1\n",
    "    if i%4 == 0:\n",
    "        break\n",
    "plt.show()"
   ]
  },
  {
   "cell_type": "code",
   "execution_count": 48,
   "metadata": {},
   "outputs": [],
   "source": [
    "model = models.Sequential()\n",
    "model.add(layers.Conv2D(32,(3,3),activation='relu',input_shape=(150,150,3)))\n",
    "model.add(layers.MaxPooling2D((2,2)))\n",
    "model.add(layers.Conv2D(64,(3,3),activation='relu'))\n",
    "model.add(layers.MaxPooling2D((2,2)))\n",
    "model.add(layers.Conv2D(128,(3,3),activation='relu'))\n",
    "model.add(layers.MaxPooling2D((2,2)))\n",
    "model.add(layers.Conv2D(128,(3,3),activation='relu'))\n",
    "model.add(layers.MaxPooling2D((2,2)))\n",
    "model.add(layers.Flatten())\n",
    "model.add(layers.Dropout(0.5))\n",
    "model.add(layers.Dense(512,activation='relu'))\n",
    "model.add(layers.Dense(1,activation='sigmoid'))"
   ]
  },
  {
   "cell_type": "code",
   "execution_count": 49,
   "metadata": {},
   "outputs": [],
   "source": [
    "model.compile(loss='binary_crossentropy',optimizer=optimizers.RMSprop(lr=1e-4),metrics=['acc'])"
   ]
  },
  {
   "cell_type": "code",
   "execution_count": 50,
   "metadata": {},
   "outputs": [],
   "source": [
    "train_datagen = ImageDataGenerator(rescale=1./255,\n",
    "                                   rotation_range=40,\n",
    "                                   width_shift_range=0.2,\n",
    "                                   height_shift_range=0.2,\n",
    "                                   shear_range=0.2,\n",
    "                                   zoom_range=0.2,\n",
    "                                   horizontal_flip=True)"
   ]
  },
  {
   "cell_type": "code",
   "execution_count": 51,
   "metadata": {},
   "outputs": [],
   "source": [
    "test_datagen = ImageDataGenerator(rescale=1./255)"
   ]
  },
  {
   "cell_type": "code",
   "execution_count": 52,
   "metadata": {},
   "outputs": [
    {
     "name": "stdout",
     "output_type": "stream",
     "text": [
      "Found 2000 images belonging to 2 classes.\n"
     ]
    }
   ],
   "source": [
    "train_generator = train_datagen.flow_from_directory(\n",
    "            train_dir,\n",
    "            target_size=(150, 150),\n",
    "            batch_size=32,\n",
    "            class_mode='binary')"
   ]
  },
  {
   "cell_type": "code",
   "execution_count": null,
   "metadata": {},
   "outputs": [],
   "source": []
  },
  {
   "cell_type": "code",
   "execution_count": 53,
   "metadata": {},
   "outputs": [
    {
     "name": "stdout",
     "output_type": "stream",
     "text": [
      "Found 1000 images belonging to 2 classes.\n"
     ]
    }
   ],
   "source": [
    "validation_generator = test_datagen.flow_from_directory(\n",
    "            validation_dir,\n",
    "            target_size=(150, 150),\n",
    "            batch_size=32,\n",
    "            class_mode='binary')"
   ]
  },
  {
   "cell_type": "code",
   "execution_count": 54,
   "metadata": {},
   "outputs": [
    {
     "name": "stdout",
     "output_type": "stream",
     "text": [
      "Epoch 1/100\n",
      "100/100 [==============================] - 21s 211ms/step - loss: 0.6922 - acc: 0.5316 - val_loss: 0.6812 - val_acc: 0.5430\n",
      "Epoch 2/100\n",
      "100/100 [==============================] - 11s 112ms/step - loss: 0.6827 - acc: 0.5609 - val_loss: 0.6618 - val_acc: 0.6090\n",
      "Epoch 3/100\n",
      "100/100 [==============================] - 12s 117ms/step - loss: 0.6621 - acc: 0.6013 - val_loss: 0.6826 - val_acc: 0.5630\n",
      "Epoch 4/100\n",
      "100/100 [==============================] - 12s 118ms/step - loss: 0.6406 - acc: 0.6291 - val_loss: 0.6132 - val_acc: 0.6340\n",
      "Epoch 5/100\n",
      "100/100 [==============================] - 12s 119ms/step - loss: 0.6240 - acc: 0.6503 - val_loss: 0.5957 - val_acc: 0.6570\n",
      "Epoch 6/100\n",
      "100/100 [==============================] - 12s 117ms/step - loss: 0.6065 - acc: 0.6647 - val_loss: 0.5945 - val_acc: 0.6630\n",
      "Epoch 7/100\n",
      "100/100 [==============================] - 12s 117ms/step - loss: 0.5937 - acc: 0.6841 - val_loss: 0.5843 - val_acc: 0.6900\n",
      "Epoch 8/100\n",
      "100/100 [==============================] - 11s 112ms/step - loss: 0.5920 - acc: 0.6831 - val_loss: 0.6069 - val_acc: 0.6530\n",
      "Epoch 9/100\n",
      "100/100 [==============================] - 11s 112ms/step - loss: 0.5748 - acc: 0.7031 - val_loss: 0.5798 - val_acc: 0.6960\n",
      "Epoch 10/100\n",
      "100/100 [==============================] - 11s 111ms/step - loss: 0.5818 - acc: 0.6831 - val_loss: 0.5498 - val_acc: 0.7040\n",
      "Epoch 11/100\n",
      "100/100 [==============================] - 11s 111ms/step - loss: 0.5684 - acc: 0.6937 - val_loss: 0.5424 - val_acc: 0.7130\n",
      "Epoch 12/100\n",
      "100/100 [==============================] - 11s 112ms/step - loss: 0.5548 - acc: 0.7112 - val_loss: 0.5401 - val_acc: 0.7220\n",
      "Epoch 13/100\n",
      "100/100 [==============================] - 11s 109ms/step - loss: 0.5555 - acc: 0.7153 - val_loss: 0.5206 - val_acc: 0.7290\n",
      "Epoch 14/100\n",
      "100/100 [==============================] - 11s 111ms/step - loss: 0.5533 - acc: 0.7172 - val_loss: 0.5173 - val_acc: 0.7270\n",
      "Epoch 15/100\n",
      "100/100 [==============================] - 11s 110ms/step - loss: 0.5473 - acc: 0.7244 - val_loss: 0.5460 - val_acc: 0.7220\n",
      "Epoch 16/100\n",
      "100/100 [==============================] - 11s 110ms/step - loss: 0.5378 - acc: 0.7287 - val_loss: 0.5551 - val_acc: 0.7090\n",
      "Epoch 17/100\n",
      "100/100 [==============================] - 11s 110ms/step - loss: 0.5335 - acc: 0.7266 - val_loss: 0.5430 - val_acc: 0.7130\n",
      "Epoch 18/100\n",
      "100/100 [==============================] - 12s 116ms/step - loss: 0.5328 - acc: 0.7222 - val_loss: 0.5852 - val_acc: 0.6940\n",
      "Epoch 19/100\n",
      "100/100 [==============================] - 11s 113ms/step - loss: 0.5246 - acc: 0.7294 - val_loss: 0.5356 - val_acc: 0.7200\n",
      "Epoch 20/100\n",
      "100/100 [==============================] - 12s 116ms/step - loss: 0.5282 - acc: 0.7394 - val_loss: 0.4985 - val_acc: 0.7600\n",
      "Epoch 21/100\n",
      "100/100 [==============================] - 11s 115ms/step - loss: 0.5101 - acc: 0.7516 - val_loss: 0.4900 - val_acc: 0.7630\n",
      "Epoch 22/100\n",
      "100/100 [==============================] - 11s 114ms/step - loss: 0.5160 - acc: 0.7491 - val_loss: 0.5089 - val_acc: 0.7440\n",
      "Epoch 23/100\n",
      "100/100 [==============================] - 12s 116ms/step - loss: 0.5206 - acc: 0.7316 - val_loss: 0.5310 - val_acc: 0.7310\n",
      "Epoch 24/100\n",
      "100/100 [==============================] - 11s 115ms/step - loss: 0.5002 - acc: 0.7481 - val_loss: 0.5228 - val_acc: 0.7410\n",
      "Epoch 25/100\n",
      "100/100 [==============================] - 11s 111ms/step - loss: 0.5020 - acc: 0.7556 - val_loss: 0.5052 - val_acc: 0.7460\n",
      "Epoch 26/100\n",
      "100/100 [==============================] - 11s 112ms/step - loss: 0.4997 - acc: 0.7484 - val_loss: 0.5200 - val_acc: 0.7400\n",
      "Epoch 27/100\n",
      "100/100 [==============================] - 11s 112ms/step - loss: 0.5056 - acc: 0.7441 - val_loss: 0.4779 - val_acc: 0.7590\n",
      "Epoch 28/100\n",
      "100/100 [==============================] - 11s 113ms/step - loss: 0.4982 - acc: 0.7562 - val_loss: 0.4753 - val_acc: 0.7690\n",
      "Epoch 29/100\n",
      "100/100 [==============================] - 11s 112ms/step - loss: 0.4911 - acc: 0.7578 - val_loss: 0.4860 - val_acc: 0.7670\n",
      "Epoch 30/100\n",
      "100/100 [==============================] - 12s 116ms/step - loss: 0.4883 - acc: 0.7559 - val_loss: 0.5032 - val_acc: 0.7440\n",
      "Epoch 31/100\n",
      "100/100 [==============================] - 12s 116ms/step - loss: 0.4816 - acc: 0.7619 - val_loss: 0.5490 - val_acc: 0.7370\n",
      "Epoch 32/100\n",
      "100/100 [==============================] - 11s 114ms/step - loss: 0.4819 - acc: 0.7616 - val_loss: 0.4833 - val_acc: 0.7470\n",
      "Epoch 33/100\n",
      "100/100 [==============================] - 12s 115ms/step - loss: 0.4858 - acc: 0.7603 - val_loss: 0.5300 - val_acc: 0.7400\n",
      "Epoch 34/100\n",
      "100/100 [==============================] - 11s 112ms/step - loss: 0.4747 - acc: 0.7716 - val_loss: 0.4635 - val_acc: 0.7700\n",
      "Epoch 35/100\n",
      "100/100 [==============================] - 11s 114ms/step - loss: 0.4749 - acc: 0.7709 - val_loss: 0.4663 - val_acc: 0.7770\n",
      "Epoch 36/100\n",
      "100/100 [==============================] - 11s 110ms/step - loss: 0.4618 - acc: 0.7716 - val_loss: 0.5089 - val_acc: 0.7430\n",
      "Epoch 37/100\n",
      "100/100 [==============================] - 11s 110ms/step - loss: 0.4744 - acc: 0.7800 - val_loss: 0.4489 - val_acc: 0.7800\n",
      "Epoch 38/100\n",
      "100/100 [==============================] - 11s 109ms/step - loss: 0.4591 - acc: 0.7822 - val_loss: 0.4663 - val_acc: 0.7750\n",
      "Epoch 39/100\n",
      "100/100 [==============================] - 11s 110ms/step - loss: 0.4584 - acc: 0.7819 - val_loss: 0.5074 - val_acc: 0.7550\n",
      "Epoch 40/100\n",
      "100/100 [==============================] - 11s 111ms/step - loss: 0.4615 - acc: 0.7791 - val_loss: 0.4419 - val_acc: 0.7980\n",
      "Epoch 41/100\n",
      "100/100 [==============================] - 11s 111ms/step - loss: 0.4498 - acc: 0.7866 - val_loss: 0.4509 - val_acc: 0.7790\n",
      "Epoch 42/100\n",
      "100/100 [==============================] - 11s 111ms/step - loss: 0.4535 - acc: 0.7803 - val_loss: 0.4497 - val_acc: 0.7970\n",
      "Epoch 43/100\n",
      "100/100 [==============================] - 11s 111ms/step - loss: 0.4444 - acc: 0.7919 - val_loss: 0.5116 - val_acc: 0.7490\n",
      "Epoch 44/100\n",
      "100/100 [==============================] - 11s 110ms/step - loss: 0.4511 - acc: 0.7850 - val_loss: 0.4557 - val_acc: 0.7840\n",
      "Epoch 45/100\n",
      "100/100 [==============================] - 11s 110ms/step - loss: 0.4403 - acc: 0.7856 - val_loss: 0.4735 - val_acc: 0.7670\n",
      "Epoch 46/100\n",
      "100/100 [==============================] - 11s 111ms/step - loss: 0.4479 - acc: 0.7950 - val_loss: 0.4958 - val_acc: 0.7600\n",
      "Epoch 47/100\n",
      "100/100 [==============================] - 11s 111ms/step - loss: 0.4373 - acc: 0.7894 - val_loss: 0.4730 - val_acc: 0.7720\n",
      "Epoch 48/100\n",
      "100/100 [==============================] - 11s 109ms/step - loss: 0.4333 - acc: 0.7997 - val_loss: 0.4413 - val_acc: 0.7980\n",
      "Epoch 49/100\n",
      "100/100 [==============================] - 11s 111ms/step - loss: 0.4366 - acc: 0.7975 - val_loss: 0.5033 - val_acc: 0.7490\n",
      "Epoch 50/100\n",
      "100/100 [==============================] - 11s 112ms/step - loss: 0.4277 - acc: 0.7916 - val_loss: 0.4725 - val_acc: 0.7740\n",
      "Epoch 51/100\n",
      "100/100 [==============================] - 11s 110ms/step - loss: 0.4243 - acc: 0.8097 - val_loss: 0.4332 - val_acc: 0.7890\n",
      "Epoch 52/100\n",
      "100/100 [==============================] - 12s 115ms/step - loss: 0.4210 - acc: 0.8016 - val_loss: 0.4651 - val_acc: 0.7770\n",
      "Epoch 53/100\n",
      "100/100 [==============================] - 11s 108ms/step - loss: 0.4281 - acc: 0.7978 - val_loss: 0.4621 - val_acc: 0.7850\n",
      "Epoch 54/100\n",
      "100/100 [==============================] - 11s 110ms/step - loss: 0.4292 - acc: 0.7925 - val_loss: 0.5777 - val_acc: 0.7260\n",
      "Epoch 55/100\n",
      "100/100 [==============================] - 11s 110ms/step - loss: 0.4250 - acc: 0.8028 - val_loss: 0.4396 - val_acc: 0.8010\n",
      "Epoch 56/100\n",
      "100/100 [==============================] - 11s 109ms/step - loss: 0.4104 - acc: 0.8091 - val_loss: 0.4895 - val_acc: 0.7760\n",
      "Epoch 57/100\n",
      "100/100 [==============================] - 11s 111ms/step - loss: 0.4092 - acc: 0.8159 - val_loss: 0.4298 - val_acc: 0.7960\n",
      "Epoch 58/100\n",
      "100/100 [==============================] - 11s 111ms/step - loss: 0.4092 - acc: 0.8116 - val_loss: 0.4641 - val_acc: 0.7750\n",
      "Epoch 59/100\n",
      "100/100 [==============================] - 11s 110ms/step - loss: 0.4045 - acc: 0.8091 - val_loss: 0.4478 - val_acc: 0.7810\n",
      "Epoch 60/100\n",
      "100/100 [==============================] - 11s 110ms/step - loss: 0.3949 - acc: 0.8128 - val_loss: 0.5066 - val_acc: 0.7750\n"
     ]
    },
    {
     "name": "stdout",
     "output_type": "stream",
     "text": [
      "Epoch 61/100\n",
      "100/100 [==============================] - 11s 110ms/step - loss: 0.4134 - acc: 0.8106 - val_loss: 0.4618 - val_acc: 0.7940\n",
      "Epoch 62/100\n",
      "100/100 [==============================] - 11s 110ms/step - loss: 0.4044 - acc: 0.8072 - val_loss: 0.4482 - val_acc: 0.7870\n",
      "Epoch 63/100\n",
      "100/100 [==============================] - 11s 109ms/step - loss: 0.4026 - acc: 0.8184 - val_loss: 0.4392 - val_acc: 0.8090\n",
      "Epoch 64/100\n",
      "100/100 [==============================] - 11s 111ms/step - loss: 0.3954 - acc: 0.8188 - val_loss: 0.4053 - val_acc: 0.8220\n",
      "Epoch 65/100\n",
      "100/100 [==============================] - 11s 110ms/step - loss: 0.4008 - acc: 0.8163 - val_loss: 0.4695 - val_acc: 0.7900\n",
      "Epoch 66/100\n",
      "100/100 [==============================] - 11s 110ms/step - loss: 0.4075 - acc: 0.8125 - val_loss: 0.4226 - val_acc: 0.8130\n",
      "Epoch 67/100\n",
      "100/100 [==============================] - 11s 110ms/step - loss: 0.3943 - acc: 0.8203 - val_loss: 0.4836 - val_acc: 0.7700\n",
      "Epoch 68/100\n",
      "100/100 [==============================] - 11s 111ms/step - loss: 0.3795 - acc: 0.8272 - val_loss: 0.4479 - val_acc: 0.7910\n",
      "Epoch 69/100\n",
      "100/100 [==============================] - 11s 115ms/step - loss: 0.3948 - acc: 0.8241 - val_loss: 0.4250 - val_acc: 0.8170\n",
      "Epoch 70/100\n",
      "100/100 [==============================] - 11s 110ms/step - loss: 0.3885 - acc: 0.8234 - val_loss: 0.4543 - val_acc: 0.7930\n",
      "Epoch 71/100\n",
      "100/100 [==============================] - 11s 110ms/step - loss: 0.3765 - acc: 0.8284 - val_loss: 0.4947 - val_acc: 0.7860\n",
      "Epoch 72/100\n",
      "100/100 [==============================] - 11s 109ms/step - loss: 0.3896 - acc: 0.8213 - val_loss: 0.5400 - val_acc: 0.7490\n",
      "Epoch 73/100\n",
      "100/100 [==============================] - 11s 109ms/step - loss: 0.3873 - acc: 0.8256 - val_loss: 0.4312 - val_acc: 0.8200\n",
      "Epoch 74/100\n",
      "100/100 [==============================] - 11s 110ms/step - loss: 0.3761 - acc: 0.8331 - val_loss: 0.5420 - val_acc: 0.7490\n",
      "Epoch 75/100\n",
      "100/100 [==============================] - 11s 111ms/step - loss: 0.3836 - acc: 0.8262 - val_loss: 0.4949 - val_acc: 0.7710\n",
      "Epoch 76/100\n",
      "100/100 [==============================] - 11s 109ms/step - loss: 0.3644 - acc: 0.8388 - val_loss: 0.4546 - val_acc: 0.7990\n",
      "Epoch 77/100\n",
      "100/100 [==============================] - 11s 110ms/step - loss: 0.3750 - acc: 0.8262 - val_loss: 0.4030 - val_acc: 0.8260\n",
      "Epoch 78/100\n",
      "100/100 [==============================] - 11s 110ms/step - loss: 0.3614 - acc: 0.8431 - val_loss: 0.4403 - val_acc: 0.8160\n",
      "Epoch 79/100\n",
      "100/100 [==============================] - 11s 111ms/step - loss: 0.3754 - acc: 0.8362 - val_loss: 0.4424 - val_acc: 0.8070\n",
      "Epoch 80/100\n",
      "100/100 [==============================] - 11s 109ms/step - loss: 0.3604 - acc: 0.8334 - val_loss: 0.4362 - val_acc: 0.8180\n",
      "Epoch 81/100\n",
      "100/100 [==============================] - 11s 114ms/step - loss: 0.3686 - acc: 0.8344 - val_loss: 0.4251 - val_acc: 0.8160\n",
      "Epoch 82/100\n",
      "100/100 [==============================] - 11s 110ms/step - loss: 0.3532 - acc: 0.8422 - val_loss: 0.4431 - val_acc: 0.8180\n",
      "Epoch 83/100\n",
      "100/100 [==============================] - 11s 109ms/step - loss: 0.3714 - acc: 0.8356 - val_loss: 0.4147 - val_acc: 0.8120\n",
      "Epoch 84/100\n",
      "100/100 [==============================] - 11s 111ms/step - loss: 0.3624 - acc: 0.8400 - val_loss: 0.4424 - val_acc: 0.8070\n",
      "Epoch 85/100\n",
      "100/100 [==============================] - 11s 110ms/step - loss: 0.3372 - acc: 0.8456 - val_loss: 0.4125 - val_acc: 0.8190\n",
      "Epoch 86/100\n",
      "100/100 [==============================] - 11s 113ms/step - loss: 0.3477 - acc: 0.8444 - val_loss: 0.4170 - val_acc: 0.8220\n",
      "Epoch 87/100\n",
      "100/100 [==============================] - 11s 111ms/step - loss: 0.3457 - acc: 0.8456 - val_loss: 0.4069 - val_acc: 0.8240\n",
      "Epoch 88/100\n",
      "100/100 [==============================] - 11s 110ms/step - loss: 0.3541 - acc: 0.8419 - val_loss: 0.4443 - val_acc: 0.8110\n",
      "Epoch 89/100\n",
      "100/100 [==============================] - 11s 111ms/step - loss: 0.3489 - acc: 0.8416 - val_loss: 0.4626 - val_acc: 0.7970\n",
      "Epoch 90/100\n",
      "100/100 [==============================] - 11s 110ms/step - loss: 0.3511 - acc: 0.8425 - val_loss: 0.5452 - val_acc: 0.7730\n",
      "Epoch 91/100\n",
      "100/100 [==============================] - 11s 110ms/step - loss: 0.3530 - acc: 0.8475 - val_loss: 0.4463 - val_acc: 0.8140\n",
      "Epoch 92/100\n",
      "100/100 [==============================] - 11s 110ms/step - loss: 0.3517 - acc: 0.8434 - val_loss: 0.4266 - val_acc: 0.8090\n",
      "Epoch 93/100\n",
      "100/100 [==============================] - 11s 111ms/step - loss: 0.3336 - acc: 0.8512 - val_loss: 0.4465 - val_acc: 0.8070\n",
      "Epoch 94/100\n",
      "100/100 [==============================] - 11s 109ms/step - loss: 0.3253 - acc: 0.8587 - val_loss: 0.4155 - val_acc: 0.8170\n",
      "Epoch 95/100\n",
      "100/100 [==============================] - 11s 113ms/step - loss: 0.3475 - acc: 0.8400 - val_loss: 0.4350 - val_acc: 0.7970\n",
      "Epoch 96/100\n",
      "100/100 [==============================] - 11s 112ms/step - loss: 0.3260 - acc: 0.8569 - val_loss: 0.4357 - val_acc: 0.8130\n",
      "Epoch 97/100\n",
      "100/100 [==============================] - 11s 109ms/step - loss: 0.3266 - acc: 0.8581 - val_loss: 0.4465 - val_acc: 0.8100\n",
      "Epoch 98/100\n",
      "100/100 [==============================] - 11s 114ms/step - loss: 0.3360 - acc: 0.8494 - val_loss: 0.4801 - val_acc: 0.7970\n",
      "Epoch 99/100\n",
      "100/100 [==============================] - 11s 111ms/step - loss: 0.3303 - acc: 0.8619 - val_loss: 0.4063 - val_acc: 0.8300\n",
      "Epoch 100/100\n",
      "100/100 [==============================] - 11s 110ms/step - loss: 0.3289 - acc: 0.8494 - val_loss: 0.4765 - val_acc: 0.8050\n"
     ]
    }
   ],
   "source": [
    "history = model.fit_generator(\n",
    "    train_generator,\n",
    "    steps_per_epoch=100,\n",
    "    epochs=100,\n",
    "    validation_data=validation_generator,\n",
    "    validation_steps=50)"
   ]
  },
  {
   "cell_type": "code",
   "execution_count": null,
   "metadata": {},
   "outputs": [],
   "source": []
  },
  {
   "cell_type": "code",
   "execution_count": null,
   "metadata": {},
   "outputs": [],
   "source": []
  },
  {
   "cell_type": "code",
   "execution_count": null,
   "metadata": {},
   "outputs": [],
   "source": []
  },
  {
   "cell_type": "code",
   "execution_count": null,
   "metadata": {},
   "outputs": [],
   "source": []
  },
  {
   "cell_type": "code",
   "execution_count": null,
   "metadata": {},
   "outputs": [],
   "source": []
  },
  {
   "cell_type": "code",
   "execution_count": null,
   "metadata": {},
   "outputs": [],
   "source": []
  },
  {
   "cell_type": "code",
   "execution_count": null,
   "metadata": {},
   "outputs": [],
   "source": []
  },
  {
   "cell_type": "code",
   "execution_count": null,
   "metadata": {},
   "outputs": [],
   "source": []
  },
  {
   "cell_type": "code",
   "execution_count": null,
   "metadata": {},
   "outputs": [],
   "source": []
  },
  {
   "cell_type": "code",
   "execution_count": null,
   "metadata": {},
   "outputs": [],
   "source": []
  },
  {
   "cell_type": "code",
   "execution_count": null,
   "metadata": {},
   "outputs": [],
   "source": []
  }
 ],
 "metadata": {
  "kernelspec": {
   "display_name": "Python 3",
   "language": "python",
   "name": "python3"
  },
  "language_info": {
   "codemirror_mode": {
    "name": "ipython",
    "version": 3
   },
   "file_extension": ".py",
   "mimetype": "text/x-python",
   "name": "python",
   "nbconvert_exporter": "python",
   "pygments_lexer": "ipython3",
   "version": "3.6.5"
  }
 },
 "nbformat": 4,
 "nbformat_minor": 2
}
