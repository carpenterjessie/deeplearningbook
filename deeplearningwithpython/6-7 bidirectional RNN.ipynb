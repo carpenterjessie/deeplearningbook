{
 "cells": [
  {
   "cell_type": "code",
   "execution_count": 1,
   "metadata": {},
   "outputs": [
    {
     "name": "stderr",
     "output_type": "stream",
     "text": [
      "Using TensorFlow backend.\n"
     ]
    }
   ],
   "source": [
    "from keras.datasets import imdb\n",
    "from keras.preprocessing import sequence\n",
    "from keras import layers\n",
    "from keras.models import Sequential\n"
   ]
  },
  {
   "cell_type": "code",
   "execution_count": 2,
   "metadata": {},
   "outputs": [],
   "source": [
    "max_feature = 10000\n",
    "maxlen = 500"
   ]
  },
  {
   "cell_type": "code",
   "execution_count": 3,
   "metadata": {},
   "outputs": [],
   "source": [
    "(x_train, y_train), (x_test, y_test) = imdb.load_data(num_words=max_feature)"
   ]
  },
  {
   "cell_type": "code",
   "execution_count": 4,
   "metadata": {},
   "outputs": [],
   "source": [
    "x_train = [x[::-1] for x in x_train]\n",
    "x_test = [x[::-1] for x in x_test]\n",
    "\n",
    "x_train = sequence.pad_sequences(x_train, maxlen=maxlen)\n",
    "x_test = sequence.pad_sequences(x_test, maxlen=maxlen)"
   ]
  },
  {
   "cell_type": "code",
   "execution_count": 5,
   "metadata": {},
   "outputs": [
    {
     "data": {
      "text/plain": [
       "array([[   0,    0,    0, ...,   22,   14,    1],\n",
       "       [   0,    0,    0, ..., 1153,  194,    1],\n",
       "       [   0,    0,    0, ...,   47,   14,    1],\n",
       "       ...,\n",
       "       [   0,    0,    0, ...,    6,   11,    1],\n",
       "       [   0,    0,    0, ..., 7079, 1446,    1],\n",
       "       [   0,    0,    0, ...,    6,   17,    1]], dtype=int32)"
      ]
     },
     "execution_count": 5,
     "metadata": {},
     "output_type": "execute_result"
    }
   ],
   "source": [
    "x_train"
   ]
  },
  {
   "cell_type": "code",
   "execution_count": 6,
   "metadata": {},
   "outputs": [],
   "source": [
    "model = Sequential()\n",
    "model.add(layers.Embedding(max_feature, 128))\n",
    "model.add(layers.LSTM(32))\n",
    "model.add(layers.Dense(1,activation='sigmoid'))\n",
    "model.compile(optimizer='rmsprop',\n",
    "             loss='binary_crossentropy',\n",
    "             metrics=['acc'])"
   ]
  },
  {
   "cell_type": "code",
   "execution_count": 7,
   "metadata": {},
   "outputs": [
    {
     "name": "stdout",
     "output_type": "stream",
     "text": [
      "Train on 20000 samples, validate on 5000 samples\n",
      "Epoch 1/10\n",
      "20000/20000 [==============================] - 69s 3ms/step - loss: 0.4873 - acc: 0.7707 - val_loss: 0.3522 - val_acc: 0.8616\n",
      "Epoch 2/10\n",
      "20000/20000 [==============================] - 62s 3ms/step - loss: 0.3105 - acc: 0.8821 - val_loss: 0.3038 - val_acc: 0.8830\n",
      "Epoch 3/10\n",
      "20000/20000 [==============================] - 63s 3ms/step - loss: 0.2518 - acc: 0.9052 - val_loss: 0.3485 - val_acc: 0.8464\n",
      "Epoch 4/10\n",
      "20000/20000 [==============================] - 63s 3ms/step - loss: 0.2185 - acc: 0.9216 - val_loss: 0.3898 - val_acc: 0.8770\n",
      "Epoch 5/10\n",
      "20000/20000 [==============================] - 64s 3ms/step - loss: 0.1950 - acc: 0.9328 - val_loss: 0.4076 - val_acc: 0.8254\n",
      "Epoch 6/10\n",
      "20000/20000 [==============================] - 64s 3ms/step - loss: 0.1741 - acc: 0.9393 - val_loss: 0.3661 - val_acc: 0.8708\n",
      "Epoch 7/10\n",
      "20000/20000 [==============================] - 62s 3ms/step - loss: 0.1540 - acc: 0.9466 - val_loss: 0.3990 - val_acc: 0.8738\n",
      "Epoch 8/10\n",
      "20000/20000 [==============================] - 64s 3ms/step - loss: 0.1404 - acc: 0.9521 - val_loss: 0.5592 - val_acc: 0.8552\n",
      "Epoch 9/10\n",
      "20000/20000 [==============================] - 63s 3ms/step - loss: 0.1332 - acc: 0.9547 - val_loss: 0.4405 - val_acc: 0.8720\n",
      "Epoch 10/10\n",
      "20000/20000 [==============================] - 63s 3ms/step - loss: 0.1185 - acc: 0.9607 - val_loss: 0.4644 - val_acc: 0.8670\n"
     ]
    }
   ],
   "source": [
    "history = model.fit(x_train,y_train, epochs=10, \n",
    "                    batch_size=128, \n",
    "                    validation_split=0.2)"
   ]
  }
 ],
 "metadata": {
  "kernelspec": {
   "display_name": "Python 3",
   "language": "python",
   "name": "python3"
  },
  "language_info": {
   "codemirror_mode": {
    "name": "ipython",
    "version": 3
   },
   "file_extension": ".py",
   "mimetype": "text/x-python",
   "name": "python",
   "nbconvert_exporter": "python",
   "pygments_lexer": "ipython3",
   "version": "3.6.6"
  }
 },
 "nbformat": 4,
 "nbformat_minor": 2
}
