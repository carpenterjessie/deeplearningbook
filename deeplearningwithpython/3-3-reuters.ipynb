{
 "cells": [
  {
   "cell_type": "code",
   "execution_count": 1,
   "metadata": {},
   "outputs": [],
   "source": [
    "from keras.datasets import reuters"
   ]
  },
  {
   "cell_type": "code",
   "execution_count": 2,
   "metadata": {},
   "outputs": [
    {
     "name": "stdout",
     "output_type": "stream",
     "text": [
      "Downloading data from https://s3.amazonaws.com/text-datasets/reuters.npz\n",
      "2113536/2110848 [==============================] - 25s 12us/step\n"
     ]
    }
   ],
   "source": [
    "(train_data,train_labels),(test_data,test_labels)=reuters.load_data(num_words=10000)"
   ]
  },
  {
   "cell_type": "code",
   "execution_count": 3,
   "metadata": {},
   "outputs": [
    {
     "data": {
      "text/plain": [
       "(8982,)"
      ]
     },
     "execution_count": 3,
     "metadata": {},
     "output_type": "execute_result"
    }
   ],
   "source": [
    "train_data.shape"
   ]
  },
  {
   "cell_type": "code",
   "execution_count": 4,
   "metadata": {},
   "outputs": [
    {
     "data": {
      "text/plain": [
       "(2246,)"
      ]
     },
     "execution_count": 4,
     "metadata": {},
     "output_type": "execute_result"
    }
   ],
   "source": [
    "test_data.shape"
   ]
  },
  {
   "cell_type": "code",
   "execution_count": 5,
   "metadata": {},
   "outputs": [
    {
     "data": {
      "text/plain": [
       "[1,\n",
       " 245,\n",
       " 273,\n",
       " 207,\n",
       " 156,\n",
       " 53,\n",
       " 74,\n",
       " 160,\n",
       " 26,\n",
       " 14,\n",
       " 46,\n",
       " 296,\n",
       " 26,\n",
       " 39,\n",
       " 74,\n",
       " 2979,\n",
       " 3554,\n",
       " 14,\n",
       " 46,\n",
       " 4689,\n",
       " 4329,\n",
       " 86,\n",
       " 61,\n",
       " 3499,\n",
       " 4795,\n",
       " 14,\n",
       " 61,\n",
       " 451,\n",
       " 4329,\n",
       " 17,\n",
       " 12]"
      ]
     },
     "execution_count": 5,
     "metadata": {},
     "output_type": "execute_result"
    }
   ],
   "source": [
    "train_data[10]"
   ]
  },
  {
   "cell_type": "code",
   "execution_count": 6,
   "metadata": {},
   "outputs": [
    {
     "data": {
      "text/plain": [
       "3"
      ]
     },
     "execution_count": 6,
     "metadata": {},
     "output_type": "execute_result"
    }
   ],
   "source": [
    "train_labels[10]"
   ]
  },
  {
   "cell_type": "code",
   "execution_count": 7,
   "metadata": {},
   "outputs": [],
   "source": [
    "import numpy as np\n",
    "def vectorize_sequences(sequences, dimension=10000):\n",
    "    results = np.zeros((len(sequences),dimension))\n",
    "    for i, sequence in enumerate(sequences):\n",
    "        results[i,sequence]=1\n",
    "    return results"
   ]
  },
  {
   "cell_type": "code",
   "execution_count": 8,
   "metadata": {},
   "outputs": [],
   "source": [
    "x_train =vectorize_sequences(train_data)"
   ]
  },
  {
   "cell_type": "code",
   "execution_count": 9,
   "metadata": {},
   "outputs": [
    {
     "data": {
      "text/plain": [
       "(8982, 10000)"
      ]
     },
     "execution_count": 9,
     "metadata": {},
     "output_type": "execute_result"
    }
   ],
   "source": [
    "x_train.shape"
   ]
  },
  {
   "cell_type": "code",
   "execution_count": 10,
   "metadata": {},
   "outputs": [],
   "source": [
    "x_test=vectorize_sequences(test_data)"
   ]
  },
  {
   "cell_type": "code",
   "execution_count": 16,
   "metadata": {},
   "outputs": [],
   "source": [
    "def to_one_hot(labels, dimension=46):\n",
    "    results=np.zeros((len(labels),dimension))\n",
    "    for i,label in enumerate(labels):\n",
    "        results[i,label]=1\n",
    "    return results"
   ]
  },
  {
   "cell_type": "code",
   "execution_count": 17,
   "metadata": {},
   "outputs": [],
   "source": [
    "one_hot_train_labels = to_one_hot(train_labels)\n",
    "one_hot_test_labels = to_one_hot(test_labels)"
   ]
  },
  {
   "cell_type": "code",
   "execution_count": 18,
   "metadata": {},
   "outputs": [],
   "source": [
    "from keras.utils.np_utils import to_categorical"
   ]
  },
  {
   "cell_type": "code",
   "execution_count": 19,
   "metadata": {},
   "outputs": [],
   "source": [
    "one_hot_train_labels = to_categorical(train_labels)\n",
    "one_hot_test_labels = to_categorical(test_labels)"
   ]
  },
  {
   "cell_type": "code",
   "execution_count": 20,
   "metadata": {},
   "outputs": [],
   "source": [
    "from keras import models"
   ]
  },
  {
   "cell_type": "code",
   "execution_count": 21,
   "metadata": {},
   "outputs": [],
   "source": [
    "from keras import layers"
   ]
  },
  {
   "cell_type": "code",
   "execution_count": 22,
   "metadata": {},
   "outputs": [],
   "source": [
    "model = models.Sequential()"
   ]
  },
  {
   "cell_type": "code",
   "execution_count": 23,
   "metadata": {},
   "outputs": [],
   "source": [
    "model.add(layers.Dense(64,activation='relu',input_shape=(10000,)))\n",
    "model.add(layers.Dense(64,activation='relu'))\n",
    "model.add(layers.Dense(46,activation='softmax'))"
   ]
  },
  {
   "cell_type": "code",
   "execution_count": 24,
   "metadata": {},
   "outputs": [],
   "source": [
    "model.compile(optimizer='rmsprop',loss='categorical_crossentropy',metrics=['accuracy'])"
   ]
  },
  {
   "cell_type": "code",
   "execution_count": 38,
   "metadata": {},
   "outputs": [],
   "source": [
    "x_val=x_train[:1000]\n",
    "partial_x_train = x_train[1000:]\n",
    "y_val=one_hot_train_labels[:1000]\n",
    "partial_y_train = one_hot_train_labels[1000:]"
   ]
  },
  {
   "cell_type": "code",
   "execution_count": null,
   "metadata": {},
   "outputs": [],
   "source": []
  },
  {
   "cell_type": "code",
   "execution_count": 28,
   "metadata": {},
   "outputs": [
    {
     "data": {
      "text/plain": [
       "(1000, 10000)"
      ]
     },
     "execution_count": 28,
     "metadata": {},
     "output_type": "execute_result"
    }
   ],
   "source": [
    "x_val.shape"
   ]
  },
  {
   "cell_type": "code",
   "execution_count": 29,
   "metadata": {},
   "outputs": [
    {
     "data": {
      "text/plain": [
       "(7982, 10000)"
      ]
     },
     "execution_count": 29,
     "metadata": {},
     "output_type": "execute_result"
    }
   ],
   "source": [
    "partial_x_train.shape"
   ]
  },
  {
   "cell_type": "code",
   "execution_count": null,
   "metadata": {},
   "outputs": [],
   "source": []
  },
  {
   "cell_type": "code",
   "execution_count": 39,
   "metadata": {},
   "outputs": [
    {
     "name": "stdout",
     "output_type": "stream",
     "text": [
      "Train on 7982 samples, validate on 1000 samples\n",
      "Epoch 1/10\n",
      "7982/7982 [==============================] - 1s 90us/step - loss: 0.0735 - acc: 0.9600 - val_loss: 1.4331 - val_acc: 0.7710\n",
      "Epoch 2/10\n",
      "7982/7982 [==============================] - 1s 91us/step - loss: 0.0719 - acc: 0.9582 - val_loss: 1.4193 - val_acc: 0.7790\n",
      "Epoch 3/10\n",
      "7982/7982 [==============================] - 1s 90us/step - loss: 0.0741 - acc: 0.9593 - val_loss: 1.4710 - val_acc: 0.7720\n",
      "Epoch 4/10\n",
      "7982/7982 [==============================] - 1s 92us/step - loss: 0.0711 - acc: 0.9595 - val_loss: 1.4705 - val_acc: 0.7810\n",
      "Epoch 5/10\n",
      "7982/7982 [==============================] - 1s 89us/step - loss: 0.0723 - acc: 0.9608 - val_loss: 1.4376 - val_acc: 0.7850\n",
      "Epoch 6/10\n",
      "7982/7982 [==============================] - 1s 88us/step - loss: 0.0698 - acc: 0.9587 - val_loss: 1.4201 - val_acc: 0.7820\n",
      "Epoch 7/10\n",
      "7982/7982 [==============================] - 1s 88us/step - loss: 0.0716 - acc: 0.9589 - val_loss: 1.4818 - val_acc: 0.7780\n",
      "Epoch 8/10\n",
      "7982/7982 [==============================] - 1s 94us/step - loss: 0.0704 - acc: 0.9584 - val_loss: 1.4700 - val_acc: 0.7730\n",
      "Epoch 9/10\n",
      "7982/7982 [==============================] - 1s 90us/step - loss: 0.0692 - acc: 0.9589 - val_loss: 1.5271 - val_acc: 0.7860\n",
      "Epoch 10/10\n",
      "7982/7982 [==============================] - 1s 90us/step - loss: 0.0709 - acc: 0.9599 - val_loss: 1.4886 - val_acc: 0.7730\n"
     ]
    }
   ],
   "source": [
    "history = model.fit(partial_x_train,partial_y_train,epochs=10,batch_size=512,validation_data=(x_val, y_val))"
   ]
  },
  {
   "cell_type": "code",
   "execution_count": null,
   "metadata": {},
   "outputs": [],
   "source": []
  },
  {
   "cell_type": "code",
   "execution_count": null,
   "metadata": {},
   "outputs": [],
   "source": []
  },
  {
   "cell_type": "code",
   "execution_count": 40,
   "metadata": {},
   "outputs": [
    {
     "name": "stdout",
     "output_type": "stream",
     "text": [
      "2246/2246 [==============================] - 0s 68us/step\n"
     ]
    }
   ],
   "source": [
    "results = model.evaluate(x_test, one_hot_test_labels)"
   ]
  },
  {
   "cell_type": "code",
   "execution_count": 41,
   "metadata": {},
   "outputs": [
    {
     "data": {
      "text/plain": [
       "[1.7561044346935921, 0.768032057043281]"
      ]
     },
     "execution_count": 41,
     "metadata": {},
     "output_type": "execute_result"
    }
   ],
   "source": [
    "results"
   ]
  },
  {
   "cell_type": "code",
   "execution_count": null,
   "metadata": {},
   "outputs": [],
   "source": []
  },
  {
   "cell_type": "code",
   "execution_count": null,
   "metadata": {},
   "outputs": [],
   "source": []
  },
  {
   "cell_type": "code",
   "execution_count": 35,
   "metadata": {},
   "outputs": [
    {
     "data": {
      "text/plain": [
       "[1.6292414828697062, 0.7698130009435482]"
      ]
     },
     "execution_count": 35,
     "metadata": {},
     "output_type": "execute_result"
    }
   ],
   "source": [
    "results"
   ]
  },
  {
   "cell_type": "code",
   "execution_count": 36,
   "metadata": {},
   "outputs": [],
   "source": [
    "predictions = model.predict(x_test)"
   ]
  },
  {
   "cell_type": "code",
   "execution_count": 37,
   "metadata": {},
   "outputs": [
    {
     "data": {
      "text/plain": [
       "3"
      ]
     },
     "execution_count": 37,
     "metadata": {},
     "output_type": "execute_result"
    }
   ],
   "source": [
    "np.argmax(predictions[0])"
   ]
  },
  {
   "cell_type": "code",
   "execution_count": 42,
   "metadata": {},
   "outputs": [],
   "source": [
    "y_train = np.array(train_labels)\n",
    "y_test = np.array(test_labels)"
   ]
  },
  {
   "cell_type": "code",
   "execution_count": 43,
   "metadata": {},
   "outputs": [],
   "source": [
    "x_val=x_train[:1000]\n",
    "partial_x_train = x_train[1000:]\n",
    "y_val=y_train[:1000]\n",
    "partial_y_train = y_train[1000:]"
   ]
  },
  {
   "cell_type": "code",
   "execution_count": 52,
   "metadata": {},
   "outputs": [],
   "source": [
    "model = models.Sequential()\n",
    "model.add(layers.Dense(64, activation='relu', input_shape=(10000,)))\n",
    "model.add(layers.Dense(20, activation='relu'))\n",
    "model.add(layers.Dense(46, activation='softmax'))\n",
    "\n",
    "model.compile(optimizer='rmsprop',\n",
    "              loss='sparse_categorical_crossentropy',\n",
    "              metrics=['acc'])"
   ]
  },
  {
   "cell_type": "code",
   "execution_count": null,
   "metadata": {},
   "outputs": [],
   "source": []
  },
  {
   "cell_type": "code",
   "execution_count": 53,
   "metadata": {},
   "outputs": [
    {
     "name": "stdout",
     "output_type": "stream",
     "text": [
      "Train on 7982 samples, validate on 1000 samples\n",
      "Epoch 1/20\n",
      "7982/7982 [==============================] - 1s 77us/step - loss: 2.8934 - acc: 0.5009 - val_loss: 2.1159 - val_acc: 0.6100\n",
      "Epoch 2/20\n",
      "7982/7982 [==============================] - 0s 63us/step - loss: 1.7520 - acc: 0.6518 - val_loss: 1.5943 - val_acc: 0.6540\n",
      "Epoch 3/20\n",
      "7982/7982 [==============================] - 0s 63us/step - loss: 1.3229 - acc: 0.7196 - val_loss: 1.3654 - val_acc: 0.7000\n",
      "Epoch 4/20\n",
      "7982/7982 [==============================] - 1s 63us/step - loss: 1.0716 - acc: 0.7651 - val_loss: 1.2212 - val_acc: 0.7300\n",
      "Epoch 5/20\n",
      "7982/7982 [==============================] - 1s 63us/step - loss: 0.8862 - acc: 0.8064 - val_loss: 1.1360 - val_acc: 0.7590\n",
      "Epoch 6/20\n",
      "7982/7982 [==============================] - 1s 63us/step - loss: 0.7442 - acc: 0.8379 - val_loss: 1.0657 - val_acc: 0.7680\n",
      "Epoch 7/20\n",
      "7982/7982 [==============================] - 1s 64us/step - loss: 0.6245 - acc: 0.8672 - val_loss: 1.0583 - val_acc: 0.7670\n",
      "Epoch 8/20\n",
      "7982/7982 [==============================] - 0s 63us/step - loss: 0.5260 - acc: 0.8923 - val_loss: 0.9916 - val_acc: 0.7890\n",
      "Epoch 9/20\n",
      "7982/7982 [==============================] - 0s 63us/step - loss: 0.4434 - acc: 0.9118 - val_loss: 0.9731 - val_acc: 0.8120\n",
      "Epoch 10/20\n",
      "7982/7982 [==============================] - 0s 63us/step - loss: 0.3771 - acc: 0.9258 - val_loss: 0.9602 - val_acc: 0.8120\n",
      "Epoch 11/20\n",
      "7982/7982 [==============================] - 1s 63us/step - loss: 0.3230 - acc: 0.9346 - val_loss: 0.9712 - val_acc: 0.8080\n",
      "Epoch 12/20\n",
      "7982/7982 [==============================] - 1s 64us/step - loss: 0.2794 - acc: 0.9399 - val_loss: 0.9708 - val_acc: 0.8150\n",
      "Epoch 13/20\n",
      "7982/7982 [==============================] - 1s 63us/step - loss: 0.2444 - acc: 0.9475 - val_loss: 0.9786 - val_acc: 0.8140\n",
      "Epoch 14/20\n",
      "7982/7982 [==============================] - 1s 63us/step - loss: 0.2176 - acc: 0.9498 - val_loss: 1.0020 - val_acc: 0.8080\n",
      "Epoch 15/20\n",
      "7982/7982 [==============================] - 1s 63us/step - loss: 0.1959 - acc: 0.9523 - val_loss: 1.0450 - val_acc: 0.8020\n",
      "Epoch 16/20\n",
      "7982/7982 [==============================] - 1s 63us/step - loss: 0.1767 - acc: 0.9536 - val_loss: 1.0178 - val_acc: 0.8070\n",
      "Epoch 17/20\n",
      "7982/7982 [==============================] - 1s 64us/step - loss: 0.1608 - acc: 0.9560 - val_loss: 1.0446 - val_acc: 0.8000\n",
      "Epoch 18/20\n",
      "7982/7982 [==============================] - 1s 63us/step - loss: 0.1521 - acc: 0.9546 - val_loss: 1.0593 - val_acc: 0.8020\n",
      "Epoch 19/20\n",
      "7982/7982 [==============================] - 1s 64us/step - loss: 0.1389 - acc: 0.9557 - val_loss: 1.0761 - val_acc: 0.8040\n",
      "Epoch 20/20\n",
      "7982/7982 [==============================] - 1s 63us/step - loss: 0.1340 - acc: 0.9567 - val_loss: 1.1104 - val_acc: 0.8090\n"
     ]
    }
   ],
   "source": [
    "history = model.fit(partial_x_train,partial_y_train,epochs=20,batch_size=512,validation_data=(x_val, y_val))"
   ]
  },
  {
   "cell_type": "code",
   "execution_count": null,
   "metadata": {},
   "outputs": [],
   "source": [
    " "
   ]
  },
  {
   "cell_type": "code",
   "execution_count": null,
   "metadata": {},
   "outputs": [],
   "source": []
  },
  {
   "cell_type": "code",
   "execution_count": 49,
   "metadata": {},
   "outputs": [
    {
     "name": "stdout",
     "output_type": "stream",
     "text": [
      "Train on 7982 samples, validate on 1000 samples\n",
      "Epoch 1/20\n",
      "7982/7982 [==============================] - 1s 89us/step - loss: 0.0678 - acc: 0.9573 - val_loss: 1.5794 - val_acc: 0.7690\n",
      "Epoch 2/20\n",
      "7982/7982 [==============================] - 1s 87us/step - loss: 0.0661 - acc: 0.9597 - val_loss: 1.6322 - val_acc: 0.7650\n",
      "Epoch 3/20\n",
      "7982/7982 [==============================] - 1s 89us/step - loss: 0.0669 - acc: 0.9577 - val_loss: 1.5985 - val_acc: 0.7750\n",
      "Epoch 4/20\n",
      "7982/7982 [==============================] - 1s 87us/step - loss: 0.0663 - acc: 0.9595 - val_loss: 1.6210 - val_acc: 0.7700\n",
      "Epoch 5/20\n",
      "7982/7982 [==============================] - 1s 87us/step - loss: 0.0656 - acc: 0.9593 - val_loss: 1.5866 - val_acc: 0.7810\n",
      "Epoch 6/20\n",
      "7982/7982 [==============================] - 1s 88us/step - loss: 0.0660 - acc: 0.9592 - val_loss: 1.6831 - val_acc: 0.7670\n",
      "Epoch 7/20\n",
      "7982/7982 [==============================] - 1s 88us/step - loss: 0.0663 - acc: 0.9592 - val_loss: 1.6523 - val_acc: 0.7680\n",
      "Epoch 8/20\n",
      "7982/7982 [==============================] - 1s 87us/step - loss: 0.0647 - acc: 0.9597 - val_loss: 1.6244 - val_acc: 0.7740\n",
      "Epoch 9/20\n",
      "7982/7982 [==============================] - 1s 88us/step - loss: 0.0645 - acc: 0.9589 - val_loss: 1.6442 - val_acc: 0.7810\n",
      "Epoch 10/20\n",
      "7982/7982 [==============================] - 1s 88us/step - loss: 0.0661 - acc: 0.9602 - val_loss: 1.5914 - val_acc: 0.7810\n",
      "Epoch 11/20\n",
      "7982/7982 [==============================] - 1s 88us/step - loss: 0.0646 - acc: 0.9580 - val_loss: 1.6700 - val_acc: 0.7760\n",
      "Epoch 12/20\n",
      "7982/7982 [==============================] - 1s 89us/step - loss: 0.0640 - acc: 0.9608 - val_loss: 1.7044 - val_acc: 0.7630\n",
      "Epoch 13/20\n",
      "7982/7982 [==============================] - 1s 92us/step - loss: 0.0654 - acc: 0.9568 - val_loss: 1.6364 - val_acc: 0.7740\n",
      "Epoch 14/20\n",
      "7982/7982 [==============================] - 1s 89us/step - loss: 0.0646 - acc: 0.9569 - val_loss: 1.6817 - val_acc: 0.7740\n",
      "Epoch 15/20\n",
      "7982/7982 [==============================] - 1s 91us/step - loss: 0.0636 - acc: 0.9609 - val_loss: 1.6834 - val_acc: 0.7670\n",
      "Epoch 16/20\n",
      "7982/7982 [==============================] - 1s 96us/step - loss: 0.0632 - acc: 0.9614 - val_loss: 1.6692 - val_acc: 0.7770\n",
      "Epoch 17/20\n",
      "7982/7982 [==============================] - 1s 93us/step - loss: 0.0635 - acc: 0.9567 - val_loss: 1.7117 - val_acc: 0.7670\n",
      "Epoch 18/20\n",
      "7982/7982 [==============================] - 1s 89us/step - loss: 0.0633 - acc: 0.9585 - val_loss: 1.7354 - val_acc: 0.7620\n",
      "Epoch 19/20\n",
      "7982/7982 [==============================] - 1s 90us/step - loss: 0.0642 - acc: 0.9575 - val_loss: 1.7111 - val_acc: 0.7690\n",
      "Epoch 20/20\n",
      "7982/7982 [==============================] - 1s 89us/step - loss: 0.0623 - acc: 0.9604 - val_loss: 1.7155 - val_acc: 0.7750\n"
     ]
    }
   ],
   "source": []
  },
  {
   "cell_type": "code",
   "execution_count": null,
   "metadata": {},
   "outputs": [],
   "source": []
  },
  {
   "cell_type": "code",
   "execution_count": null,
   "metadata": {},
   "outputs": [],
   "source": []
  },
  {
   "cell_type": "code",
   "execution_count": null,
   "metadata": {},
   "outputs": [],
   "source": []
  },
  {
   "cell_type": "code",
   "execution_count": null,
   "metadata": {},
   "outputs": [],
   "source": []
  },
  {
   "cell_type": "code",
   "execution_count": null,
   "metadata": {},
   "outputs": [],
   "source": []
  },
  {
   "cell_type": "code",
   "execution_count": null,
   "metadata": {},
   "outputs": [],
   "source": []
  },
  {
   "cell_type": "code",
   "execution_count": null,
   "metadata": {},
   "outputs": [],
   "source": []
  },
  {
   "cell_type": "code",
   "execution_count": null,
   "metadata": {},
   "outputs": [],
   "source": []
  },
  {
   "cell_type": "code",
   "execution_count": null,
   "metadata": {},
   "outputs": [],
   "source": []
  },
  {
   "cell_type": "code",
   "execution_count": null,
   "metadata": {},
   "outputs": [],
   "source": []
  },
  {
   "cell_type": "code",
   "execution_count": null,
   "metadata": {},
   "outputs": [],
   "source": []
  },
  {
   "cell_type": "code",
   "execution_count": null,
   "metadata": {},
   "outputs": [],
   "source": []
  }
 ],
 "metadata": {
  "kernelspec": {
   "display_name": "Python 3",
   "language": "python",
   "name": "python3"
  },
  "language_info": {
   "codemirror_mode": {
    "name": "ipython",
    "version": 3
   },
   "file_extension": ".py",
   "mimetype": "text/x-python",
   "name": "python",
   "nbconvert_exporter": "python",
   "pygments_lexer": "ipython3",
   "version": "3.6.5"
  }
 },
 "nbformat": 4,
 "nbformat_minor": 2
}
